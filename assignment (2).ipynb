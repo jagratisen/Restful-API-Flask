{
  "nbformat": 4,
  "nbformat_minor": 0,
  "metadata": {
    "colab": {
      "provenance": []
    },
    "kernelspec": {
      "name": "python3",
      "display_name": "Python 3"
    },
    "language_info": {
      "name": "python"
    }
  },
  "cells": [
    {
      "cell_type": "code",
      "source": [
        "# 1.How do you create a basic Flask application\n",
        "from IPython.display import display, HTML\n",
        "\n",
        "def run_app(app):\n",
        "  app.run(host='0.0.0.0', port=8080)\n",
        "\n",
        "# Create a new thread to run the Flask app\n",
        "import threading\n",
        "thread = threading.Thread(target=run_app, args=(app,))\n",
        "thread.start()\n",
        "\n",
        "display(HTML(\"<a href='http://localhost:8080/' target='_blank'>Open Flask App</a>\"))"
      ],
      "metadata": {
        "id": "aUM_8PqhAFTK"
      },
      "execution_count": null,
      "outputs": []
    },
    {
      "cell_type": "code",
      "source": [
        "# 2. How do you serve static files like images or CSS in Flask\n",
        "from flask import Flask, render_template\n",
        "\n",
        "app = Flask(__name__)\n",
        "\n",
        "@app.route('/')\n",
        "def index():\n",
        "    return render_template('index.html')\n",
        "\n",
        "if __name__ == '__main__':\n",
        "    app.run(debug=True)"
      ],
      "metadata": {
        "id": "9deoea_DAQYU"
      },
      "execution_count": null,
      "outputs": []
    },
    {
      "cell_type": "code",
      "source": [
        "# 3. How do you define different routes with different HTTP methods in Flask\n",
        "from flask import Flask, request\n",
        "\n",
        "app = Flask(__name__)\n",
        "\n",
        "@app.route('/data', methods=['GET', 'POST'])\n",
        "def handle_data():\n",
        "    if request.method == 'GET':\n",
        "        # Handle GET request\n",
        "        return 'This is a GET request'\n",
        "    elif request.method == 'POST':\n",
        "        # Handle POST request\n",
        "        return 'This is a POST request'"
      ],
      "metadata": {
        "id": "ETLf68SeAYaF"
      },
      "execution_count": null,
      "outputs": []
    },
    {
      "cell_type": "code",
      "source": [
        "# 4.How do you render HTML templates in Flask\n",
        "from flask import Flask, render_template\n",
        "\n",
        "app = Flask(__name__)\n",
        "\n",
        "@app.route('/')\n",
        "def index():\n",
        "  return render_template('index.html', name='World')\n",
        "\n",
        "if __name__ == '__main__':\n",
        "  app.run(debug=True)"
      ],
      "metadata": {
        "id": "9dgJgu4GAeOE"
      },
      "execution_count": null,
      "outputs": []
    },
    {
      "cell_type": "code",
      "source": [
        "# 5.How can you generate URLs for routes in Flask using url_fo\n",
        "from flask import Flask, url_for\n",
        "\n",
        "app = Flask(__name__)\n",
        "\n",
        "@app.route('/')\n",
        "def index():\n",
        "    return 'Index Page'\n",
        "\n",
        "@app.route('/hello')\n",
        "def hello():\n",
        "    return 'Hello, World!'\n",
        "\n",
        "@app.route('/user/<username>')\n",
        "def profile(username):\n",
        "    return f'User {username}'\n",
        "\n",
        "with app.test_request_context():\n",
        "    print(url_for('index'))  # Output: /\n",
        "    print(url_for('hello'))  # Output: /hello\n",
        "    print(url_for('profile', username='john'))  # Output: /user/john"
      ],
      "metadata": {
        "id": "naG6olw1A-EI"
      },
      "execution_count": null,
      "outputs": []
    },
    {
      "cell_type": "code",
      "source": [
        "# 6.How do you handle forms in Flask"
      ],
      "metadata": {
        "id": "k8Y7C2sZBEnb"
      },
      "execution_count": null,
      "outputs": []
    },
    {
      "cell_type": "code",
      "source": [
        "# 7. How can you validate form data in Flask\n",
        "from flask import Flask, render_template, request\n",
        "from .forms import MyForm  # Import your form class\n",
        "\n",
        "app = Flask(__name__)\n",
        "app.config['SECRET_KEY'] = 'your_secret_key'\n",
        "\n",
        "@app.route('/', methods=['GET', 'POST'])\n",
        "def index():\n",
        "    form = MyForm()\n",
        "    if form.validate_on_submit():\n",
        "        # Form is valid, process the data\n",
        "        name = form.name.data\n",
        "        email = form.email.data\n",
        "        # ...\n",
        "    else:\n",
        "        # Form is invalid, render the template with errors\n",
        "        return render_template('index.html', form=form)"
      ],
      "metadata": {
        "id": "XyyAXhaRBKe9"
      },
      "execution_count": null,
      "outputs": []
    },
    {
      "cell_type": "code",
      "source": [
        "# 8.How do you manage sessions in Flask\n",
        " #enabling sessions\n",
        " from flask import Flask, session\n",
        "\n",
        "app = Flask(__name__)\n",
        "app.secret_key = 'your_secret_key'  # Replace with a strong secret key\n"
      ],
      "metadata": {
        "id": "dcXsQGBXBRE8"
      },
      "execution_count": null,
      "outputs": []
    },
    {
      "cell_type": "code",
      "source": [
        "#setting and getting session data\n",
        "@app.route('/login', methods=['POST'])\n",
        "def login():\n",
        "    username = request.form['username']\n",
        "    # ... authenticate user ...\n",
        "    session['username'] = username\n",
        "    return redirect(url_for('profile'))\n",
        "\n",
        "@app.route('/profile')\n",
        "def profile():\n",
        "    if 'username' in session:\n",
        "        username = session['username']\n",
        "        # ... display user profile ...\n",
        "    else:\n",
        "        return redirect(url_for('login'))"
      ],
      "metadata": {
        "id": "xjqoY_YKDfvj"
      },
      "execution_count": null,
      "outputs": []
    },
    {
      "cell_type": "code",
      "source": [
        "# clearing sessions\n",
        "@app.route('/logout')\n",
        "def logout():\n",
        "    session.clear()  # Clear all session data\n",
        "    # or\n",
        "    session.pop('username', None)  # Remove username from session\n",
        "    return redirect(url_for('index'))"
      ],
      "metadata": {
        "id": "l4faVnZNDq6c"
      },
      "execution_count": null,
      "outputs": []
    },
    {
      "cell_type": "code",
      "source": [
        "# 9.How do you redirect to a different route in Flask\n",
        "from flask import Flask, redirect, url_for\n",
        "\n",
        "app = Flask(__name__)\n",
        "\n",
        "@app.route('/')\n",
        "def index():\n",
        "    return redirect(url_for('hello'))\n",
        "\n",
        "@app.route('/hello')\n",
        "def hello():\n",
        "    return 'Hello, World!'"
      ],
      "metadata": {
        "id": "DYkT7yiLCemF"
      },
      "execution_count": null,
      "outputs": []
    },
    {
      "cell_type": "code",
      "source": [
        "# passing argumenta\n",
        "@app.route('/user/<username>')\n",
        "def profile(username):\n",
        "    return f'User {username}'\n",
        "\n",
        "@app.route('/login')\n",
        "def login():\n",
        "    # ... authenticate user ...\n",
        "    return redirect(url_for('profile', username='john'))"
      ],
      "metadata": {
        "id": "K2A2neN5EBFc"
      },
      "execution_count": null,
      "outputs": []
    },
    {
      "cell_type": "code",
      "source": [
        "# HTTP status code\n",
        "return redirect(url_for('hello'), code=302)  # Temporary redirect (default)\n",
        "return redirect(url_for('hello'), code=301)  # Permanent redirect"
      ],
      "metadata": {
        "id": "-Q13DoAhEHL0"
      },
      "execution_count": null,
      "outputs": []
    },
    {
      "cell_type": "code",
      "source": [
        "# 10. How do you handle errors in Flask (e.g., 404)\n",
        " # using error handelers\n",
        " from flask import Flask, render_template\n",
        "\n",
        "app = Flask(__name__)\n",
        "\n",
        "@app.errorhandler(404)\n",
        "def page_not_found(error):\n",
        "    return render_template('404.html'), 404\n",
        "\n",
        "# ... other routes ..."
      ],
      "metadata": {
        "id": "qRSLiTsUD0Dl"
      },
      "execution_count": null,
      "outputs": []
    },
    {
      "cell_type": "code",
      "source": [
        "# 11. How do you structure a Flask app using Blueprints\n",
        " #Create Blueprint Objects\n",
        " from flask import Blueprint\n",
        "\n",
        "# Create a blueprint for the 'auth' section\n",
        "auth_bp = Blueprint('auth', __name__)\n",
        "\n",
        "# Create a blueprint for the 'admin' section\n",
        "admin_bp = Blueprint('admin', __name__, url_prefix='/admin')\n",
        "\n"
      ],
      "metadata": {
        "id": "1FfUzegvEvvc"
      },
      "execution_count": null,
      "outputs": []
    },
    {
      "cell_type": "code",
      "source": [
        "# Define Routes and Views within Blueprints\n",
        "@auth_bp.route('/login')\n",
        "def login():\n",
        "    # ...\n",
        "    return 'Login page'\n",
        "\n",
        "@admin_bp.route('/dashboard')\n",
        "def dashboard():\n",
        "    # ...\n",
        "    return 'Admin dashboard'"
      ],
      "metadata": {
        "id": "_pVzJUs8FVJj"
      },
      "execution_count": null,
      "outputs": []
    },
    {
      "cell_type": "code",
      "source": [
        "#Register Blueprints with the Application\n",
        "from flask import Flask\n",
        "\n",
        "app = Flask(__name__)\n",
        "\n",
        "# Register the blueprints\n",
        "app.register_blueprint(auth_bp)\n",
        "app.register_blueprint(admin_bp)"
      ],
      "metadata": {
        "id": "Bz2vNqI5Fb22"
      },
      "execution_count": null,
      "outputs": []
    },
    {
      "cell_type": "code",
      "source": [
        "# 12.How do you define a custom Jinja filter in Flask\n",
        " #Create a Filter Function\n",
        " def format_currency(value):\n",
        "    return \"${:,.2f}\".format(value)"
      ],
      "metadata": {
        "id": "_V24UYD3FiGN"
      },
      "execution_count": null,
      "outputs": []
    },
    {
      "cell_type": "code",
      "source": [
        "#Register the Filter with the Jinja Environment\n",
        "from flask import Flask\n",
        "\n",
        "app = Flask(__name__)\n",
        "\n",
        "app.jinja_env.filters['format_currency'] = format_currency"
      ],
      "metadata": {
        "id": "PnDUQLkUF78o"
      },
      "execution_count": null,
      "outputs": []
    },
    {
      "cell_type": "code",
      "source": [
        "# Use the Filter in Your Templates\n",
        "<p>The price is: {{ price | format_currency }}</p>"
      ],
      "metadata": {
        "id": "UDAgLz2NGanM"
      },
      "execution_count": null,
      "outputs": []
    },
    {
      "cell_type": "code",
      "source": [
        "# 13.How can you redirect with query parameters in Flask\n",
        "from flask import Flask, redirect, url_for\n",
        "\n",
        "app = Flask(__name__)\n",
        "\n",
        "@app.route('/redirect')\n",
        "def redirect_with_query_params():\n",
        "    return redirect(url_for('target_route', param1='value1', param2='value2'))\n",
        "\n",
        "@app.route('/target')\n",
        "def target_route():\n",
        "    param1 = request.args.get('param1')\n",
        "    param2 = request.args.get('param2')\n",
        "    return f'Param1: {param1}, Param2: {param2}'"
      ],
      "metadata": {
        "id": "yg7ScUvSGimX"
      },
      "execution_count": null,
      "outputs": []
    },
    {
      "cell_type": "code",
      "source": [
        "# 14.How do you return JSON responses in Flask\n",
        "from flask import Flask, jsonify\n",
        "\n",
        "app = Flask(__name__)\n",
        "\n",
        "@app.route('/data')\n",
        "def get_data():\n",
        "    data = {'name': 'John Doe', 'age': 30}\n",
        "    return jsonify(data)"
      ],
      "metadata": {
        "id": "-_cT1QZaGyVi"
      },
      "execution_count": null,
      "outputs": []
    },
    {
      "cell_type": "code",
      "source": [
        "# 15.How do you capture URL parameters in Flask\n",
        "from flask import Flask\n",
        "\n",
        "app = Flask(__name__)\n",
        "\n",
        "@app.route('/user/<username>')\n",
        "def profile(username):\n",
        "    return f'User {username}'"
      ],
      "metadata": {
        "id": "60xnXxjEHF-z"
      },
      "execution_count": null,
      "outputs": []
    }
  ]
}